{
 "cells": [
  {
   "cell_type": "markdown",
   "id": "05e86d60-2de8-4f5c-bffe-6669c40324cd",
   "metadata": {},
   "source": [
    "# Data Science Tools and Ecosystem"
   ]
  },
  {
   "cell_type": "markdown",
   "id": "a773d3f3",
   "metadata": {},
   "source": [
    "In this notebook, Data Science Tools and Ecosystem are summarized."
   ]
  },
  {
   "cell_type": "markdown",
   "id": "18b48ca5",
   "metadata": {},
   "source": [
    "Some of the poular languages that Data Scientists use are:\n",
    "1. Python\n",
    "2. R\n",
    "3. SQL"
   ]
  },
  {
   "cell_type": "markdown",
   "id": "9b6000a8",
   "metadata": {},
   "source": [
    "Some of the commonly used libraries used by Data Scientists include:\n",
    "1. pandas\n",
    "2. sckit-learn\n",
    "3. numpy\n",
    "4. pyplotlib\n",
    "5. ggplot2"
   ]
  },
  {
   "cell_type": "markdown",
   "id": "0cc72705",
   "metadata": {},
   "source": [
    "| Data Science Tools |\n",
    "|:-------------------|\n",
    "| SQL Databases |\n",
    "| Python |\n",
    "| R |\n",
    "| Libraries |\n",
    "| Excel |\n",
    "| Curiosity |"
   ]
  },
  {
   "cell_type": "markdown",
   "id": "c19e6b74",
   "metadata": {},
   "source": [
    "### Below are a few examples of evaluating arithmetic expressions in Python"
   ]
  },
  {
   "cell_type": "code",
   "execution_count": 4,
   "id": "d471a4e0",
   "metadata": {},
   "outputs": [
    {
     "data": {
      "text/plain": [
       "17"
      ]
     },
     "execution_count": 4,
     "metadata": {},
     "output_type": "execute_result"
    }
   ],
   "source": [
    "(3*4)+5\n",
    "#This is a simple arithmetic expression to multiply then add integers"
   ]
  },
  {
   "cell_type": "code",
   "execution_count": 5,
   "id": "02ac2829",
   "metadata": {},
   "outputs": [
    {
     "data": {
      "text/plain": [
       "3.3333333333333335"
      ]
     },
     "execution_count": 5,
     "metadata": {},
     "output_type": "execute_result"
    }
   ],
   "source": [
    "#This will convert 200 minutes to hours by diving by 60\n",
    "200 / 60"
   ]
  },
  {
   "cell_type": "markdown",
   "id": "9caa70da",
   "metadata": {},
   "source": [
    "**Objectives:**\n",
    "- List data science languages\n",
    "- List data science libraries\n",
    "- Create a table of data science tools\n",
    "- Create an arithmetic expression example\n",
    "- Do simple multiplication and addition\n",
    "- Convert minutes to hours\n",
    "- (A little meta) List objectives covered in this notebook, which includes..."
   ]
  },
  {
   "cell_type": "markdown",
   "id": "021a515f",
   "metadata": {},
   "source": [
    "## Author\n",
    "Adon Anglon"
   ]
  }
 ],
 "metadata": {
  "kernelspec": {
   "display_name": "Python 3 (ipykernel)",
   "language": "python",
   "name": "python3"
  },
  "language_info": {
   "codemirror_mode": {
    "name": "ipython",
    "version": 3
   },
   "file_extension": ".py",
   "mimetype": "text/x-python",
   "name": "python",
   "nbconvert_exporter": "python",
   "pygments_lexer": "ipython3",
   "version": "3.9.6"
  }
 },
 "nbformat": 4,
 "nbformat_minor": 5
}
